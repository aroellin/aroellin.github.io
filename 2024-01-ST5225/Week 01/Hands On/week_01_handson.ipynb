{
 "cells": [
  {
   "cell_type": "markdown",
   "metadata": {},
   "source": [
    "# ST5225 Statistical Analysis of Networks — Hands-On Activities\n",
    "## Week 1 — Introducton to Networks "
   ]
  },
  {
   "cell_type": "markdown",
   "metadata": {},
   "source": [
    "## 1. Download the data from [Brunel University London](https://brunel.figshare.com/articles/dataset/Supply_Chain_Logistics_Problem_Dataset/7558679)\n",
    "\n",
    "This is a supply chain data set and contains products being shipped between different ports. \n",
    "\n",
    "The first tab (\"OrderList\") in the Excel file contains the following columns:\n",
    "1. **Order ID**: Unique identifier for each order.\n",
    "2. **Order Date**: The date on which the order was placed.\n",
    "3. **Origin Port**: The port from which the shipment originates.\n",
    "4. **Carrier**: The company or service that is transporting the shipment.\n",
    "5. **TPT**: Meaning unclear\n",
    "6. **Service Level**: Meaning unclear.\n",
    "7. **Ship ahead day count**: Indicates the number of days an order was shipped ahead of schedule.\n",
    "8. **Ship Late Day count**: Indicates the number of days an order was shipped after the scheduled shipping date.\n",
    "9. **Customer**: Identifier for the customer receiving the shipment.\n",
    "10. **Product ID**: Unique identifier for the product being shipped.\n",
    "11. **Plant Code**: Identifier for the plant or location from which the product is shipped.\n",
    "12. **Destination Port**: The port to which the shipment is destined.\n",
    "13. **Unit quantity**: Number of units of the product in the shipment.\n",
    "14. **Weight**: Weight of the shipment.\n"
   ]
  },
  {
   "cell_type": "markdown",
   "metadata": {},
   "source": [
    "## 2. Load the data into Python\n",
    "Read the Excel file into python using pandas."
   ]
  },
  {
   "cell_type": "markdown",
   "metadata": {},
   "source": [
    "## 3. Create a network\n",
    "Some suggestions:\n",
    "* Vertices = customers and products, edges = customer has bought the product. \n",
    "* Vertices = harbour, directed weighted edges = number of orders from one harbour to another\n",
    "* Vertices = products, weighted edges = number of customers who bought both these products"
   ]
  },
  {
   "cell_type": "markdown",
   "metadata": {},
   "source": [
    "## 4. Visualise the network\n",
    "Visualise the network or parts of it (e.g. only high degree nodes?). Use colours, shapes, sizes etc to visualise attributes. "
   ]
  },
  {
   "cell_type": "markdown",
   "metadata": {},
   "source": [
    "## 5. Run an SIR epidemic\n",
    "\n",
    "Use the code from the deepdive to run an epidemic on your network."
   ]
  }
 ],
 "metadata": {
  "language_info": {
   "name": "python"
  }
 },
 "nbformat": 4,
 "nbformat_minor": 2
}
